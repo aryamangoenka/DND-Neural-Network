{
  "cells": [
    {
      "cell_type": "markdown",
      "metadata": {},
      "source": [
        "# Neural Network Model\n",
        "Dataset: Iris\n"
      ]
    },
    {
      "cell_type": "code",
      "execution_count": null,
      "metadata": {},
      "source": [
        "\nimport tensorflow as tf\nfrom tensorflow.keras.models import Sequential\nfrom tensorflow.keras.layers import Dense, Conv2D, Flatten, Dropout, MaxPooling2D, BatchNormalization, Input, MultiHeadAttention, Lambda, Reshape\nimport numpy as np\nimport matplotlib.pyplot as plt\n"
      ]
    },
    {
      "cell_type": "markdown",
      "metadata": {},
      "source": [
        "## Custom Attention Layer Definition"
      ]
    },
    {
      "cell_type": "code",
      "execution_count": null,
      "metadata": {},
      "source": [
        "\n# Define custom attention function for Lambda layer\n@tf.keras.utils.register_keras_serializable(package='custom_layers')\ndef apply_attention(x, num_heads=8, key_dim=64, dropout=0.0):\n    attention_layer = MultiHeadAttention(\n        num_heads=num_heads,\n        key_dim=key_dim,\n        dropout=dropout\n    )\n    return attention_layer(x, x)\n\n# Define custom attention layer class\n@tf.keras.utils.register_keras_serializable(package='custom_layers')\nclass CustomAttentionLayer(tf.keras.layers.Layer):\n    def __init__(self, num_heads=8, key_dim=64, dropout=0.0, **kwargs):\n        super(CustomAttentionLayer, self).__init__(**kwargs)\n        self.num_heads = num_heads\n        self.key_dim = key_dim\n        self.dropout = dropout\n        self.attention = None  # Will be initialized in build()\n        \n    def build(self, input_shape):\n        self.attention = MultiHeadAttention(\n            num_heads=self.num_heads,\n            key_dim=self.key_dim,\n            dropout=self.dropout\n        )\n        super(CustomAttentionLayer, self).build(input_shape)\n        \n    def call(self, inputs, training=None):\n        return self.attention(inputs, inputs, training=training)\n        \n    def get_config(self):\n        config = super(CustomAttentionLayer, self).get_config()\n        config.update({\n            'num_heads': self.num_heads,\n            'key_dim': self.key_dim,\n            'dropout': self.dropout\n        })\n        return config\n"
      ]
    },
    {
      "cell_type": "markdown",
      "metadata": {},
      "source": [
        "## Data Preprocessing"
      ]
    },
    {
      "cell_type": "code",
      "execution_count": null,
      "metadata": {},
      "source": [
        "\nfrom sklearn.datasets import load_iris\nfrom sklearn.model_selection import train_test_split\nfrom sklearn.preprocessing import StandardScaler, OneHotEncoder\n\n# Load Iris dataset\ndata = load_iris()\nX, y = data.data, data.target\n\n# Standardize features\nscaler = StandardScaler()\nX = scaler.fit_transform(X)\n\n# One-hot encode labels\nencoder = OneHotEncoder(sparse_output=False)\ny = encoder.fit_transform(y.reshape(-1, 1))\n\n# Split data\nx_train, x_test, y_train, y_test = train_test_split(X, y, test_size=0.2, random_state=42)\n"
      ]
    },
    {
      "cell_type": "markdown",
      "metadata": {},
      "source": [
        "## Model Definition"
      ]
    },
    {
      "cell_type": "code",
      "execution_count": null,
      "metadata": {},
      "source": [
        "\n# Define the model\nmodel = Sequential([\n    Input(shape=(4,)),\nDense(641, activation='relu'),\nDense(3, activation='softmax'),\n])\n\nmodel.compile(optimizer='adam', loss='categorical_crossentropy', metrics=['accuracy'])\nmodel.summary()\n"
      ]
    },
    {
      "cell_type": "markdown",
      "metadata": {},
      "source": [
        "## Model Training"
      ]
    },
    {
      "cell_type": "code",
      "execution_count": null,
      "metadata": {},
      "source": [
        "\n# Train the model\nhistory = model.fit(x_train, y_train, epochs=10, batch_size=32, validation_split=0.2)\n\n# Evaluate the model\nloss, accuracy = model.evaluate(x_test, y_test)\nprint(f\"Test Loss: {loss}\")\nprint(f\"Test Accuracy: {accuracy}\")\n\n# Save the model\nmodel.save('trained_model.keras')\n"
      ]
    },
    {
      "cell_type": "markdown",
      "metadata": {},
      "source": [
        "## Visualize Training Results"
      ]
    },
    {
      "cell_type": "code",
      "execution_count": null,
      "metadata": {},
      "source": [
        "\n# Visualize training history\nplt.figure(figsize=(12, 4))\nplt.subplot(1, 2, 1)\nplt.plot(history.history['loss'], label='Training Loss')\nplt.plot(history.history['val_loss'], label='Validation Loss')\nplt.title('Loss over Epochs')\nplt.xlabel('Epoch')\nplt.ylabel('Loss')\nplt.legend()\n\nplt.subplot(1, 2, 2)\nplt.plot(history.history['accuracy'], label='Training Accuracy')\nplt.plot(history.history['val_accuracy'], label='Validation Accuracy')\nplt.title('Accuracy over Epochs')\nplt.xlabel('Epoch')\nplt.ylabel('Accuracy')\nplt.legend()\nplt.tight_layout()\nplt.show()\n"
      ]
    }
  ],
  "metadata": {
    "kernelspec": {
      "display_name": "Python 3",
      "language": "python",
      "name": "python3"
    },
    "language_info": {
      "codemirror_mode": {
        "name": "ipython",
        "version": 3
      },
      "file_extension": ".py",
      "mimetype": "text/x-python",
      "name": "python",
      "nbconvert_exporter": "python",
      "pygments_lexer": "ipython3",
      "version": "3.8.0"
    }
  },
  "nbformat": 4,
  "nbformat_minor": 4
}